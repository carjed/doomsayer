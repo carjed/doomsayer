{
 "cells": [
  {
   "cell_type": "markdown",
   "metadata": {},
   "source": [
    "## test"
   ]
  },
  {
   "cell_type": "code",
   "execution_count": 96,
   "metadata": {},
   "outputs": [
    {
     "name": "stdout",
     "output_type": "stream",
     "text": [
      "/home/jedidiah/doomsayer/doomsayer_output already exists\n",
      "All output files will be located in  /home/jedidiah/doomsayer/doomsayer_output\n",
      "indexing subtypes...\n",
      "Writing M matrices and RMSE per sample\n",
      "Running NMF model\n",
      "Running NMF with rank = 4\n",
      "Generating keep and drop lists\n",
      "330 potential outliers found.\n",
      "Rscript will run the following command:\n",
      "Rscript --vanilla generate_report.r /home/jedidiah/doomsayer/doomsayer_output/config.yaml\n",
      "We recommend that you use the dev version of ggplot2 with `ggplotly()`\n",
      "Install it with: `devtools::install_github('hadley/ggplot2')`\n",
      "We recommend that you use the dev version of ggplot2 with `ggplotly()`\n",
      "Install it with: `devtools::install_github('hadley/ggplot2')`\n",
      "We recommend that you use the dev version of ggplot2 with `ggplotly()`\n",
      "Install it with: `devtools::install_github('hadley/ggplot2')`\n",
      "`mutate_each()` is deprecated.\n",
      "Use `mutate_all()`, `mutate_at()` or `mutate_if()` instead.\n",
      "To map `funs` over a selection of variables, use `mutate_at()`\n",
      "Total runtime: 34.98 seconds\n"
     ]
    }
   ],
   "source": [
    "!python doomsayer.py \\\n",
    "  --mode agg \\\n",
    "  --input tutorial_data/NMF_M_spectra.txt \\\n",
    "  --verbose \\\n",
    "  --rank 4 \\\n",
    "  --report"
   ]
  }
 ],
 "metadata": {
  "kernelspec": {
   "display_name": "Python 3",
   "language": "python",
   "name": "python3"
  },
  "language_info": {
   "codemirror_mode": {
    "name": "ipython",
    "version": 3
   },
   "file_extension": ".py",
   "mimetype": "text/x-python",
   "name": "python",
   "nbconvert_exporter": "python",
   "pygments_lexer": "ipython3",
   "version": "3.6.2"
  }
 },
 "nbformat": 4,
 "nbformat_minor": 2
}
